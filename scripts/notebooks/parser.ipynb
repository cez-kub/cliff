{
 "cells": [
  {
   "cell_type": "code",
   "execution_count": 3,
   "metadata": {},
   "outputs": [],
   "source": [
    "# Dependencies and libraries\n",
    "from dotenv import load_dotenv\n",
    "import os\n",
    "import re\n",
    "\n",
    "# Load environment variables from the .env file\n",
    "load_dotenv()\n",
    "# Retrieve credentials from environment variables\n",
    "password = os.getenv('POSTGRES_PASSWORD')\n",
    "\n"
   ]
  },
  {
   "cell_type": "code",
   "execution_count": 4,
   "metadata": {},
   "outputs": [
    {
     "data": {
      "text/plain": [
       "[\"WHEN age > 18 THEN 'Adult'\\n        ELSE 'Minor'\"]"
      ]
     },
     "execution_count": 4,
     "metadata": {},
     "output_type": "execute_result"
    }
   ],
   "source": [
    "# Parse T-SQL query with CASE statement\n",
    "tsql_query = \"\"\"\n",
    "SELECT \n",
    "    user_id,\n",
    "    CASE \n",
    "        WHEN age > 18 THEN 'Adult'\n",
    "        ELSE 'Minor'\n",
    "    END AS age_group\n",
    "FROM users;\n",
    "\"\"\"\n",
    "\n",
    "def parse_case_statements(query: str):\n",
    "    \"\"\"Parse T-SQL CASE statement.\"\"\"\n",
    "    case_pattern = re.compile(r\"CASE\\s+(.*?)\\s+END\", re.DOTALL)\n",
    "    cases = re.findall(case_pattern, query)\n",
    "    return cases\n",
    "\n",
    "# Test the function\n",
    "case_statements = parse_case_statements(tsql_query)\n",
    "case_statements\n"
   ]
  },
  {
   "cell_type": "code",
   "execution_count": 5,
   "metadata": {},
   "outputs": [
    {
     "data": {
      "text/plain": [
       "[('ROW_NUMBER()', 'PARTITION BY region ORDER BY sales DESC')]"
      ]
     },
     "execution_count": 5,
     "metadata": {},
     "output_type": "execute_result"
    }
   ],
   "source": [
    "# Parse T-SQL query with a window function\n",
    "tsql_query_window = \"\"\"\n",
    "SELECT\n",
    "    user_id,\n",
    "    ROW_NUMBER() OVER (PARTITION BY region ORDER BY sales DESC) AS rank\n",
    "FROM sales_data;\n",
    "\"\"\"\n",
    "\n",
    "def parse_window_functions(query: str):\n",
    "    \"\"\"Parse T-SQL window functions.\"\"\"\n",
    "    window_function_pattern = re.compile(r\"(\\w+\\(\\))\\s+OVER\\s*\\((.*?)\\)\", re.DOTALL)\n",
    "    window_functions = re.findall(window_function_pattern, query)\n",
    "    return window_functions\n",
    "\n",
    "# Test the function\n",
    "window_functions = parse_window_functions(tsql_query_window)\n",
    "window_functions\n"
   ]
  },
  {
   "cell_type": "code",
   "execution_count": 6,
   "metadata": {},
   "outputs": [
    {
     "data": {
      "text/plain": [
       "[('DATEADD', 'day, 7, GETDATE('), ('DATEDIFF', \"day, '2024-01-01', GETDATE(\")]"
      ]
     },
     "execution_count": 6,
     "metadata": {},
     "output_type": "execute_result"
    }
   ],
   "source": [
    "# Parse T-SQL query with calendar functions\n",
    "tsql_query_calendar = \"\"\"\n",
    "SELECT \n",
    "    DATEADD(day, 7, GETDATE()) AS next_week,\n",
    "    DATEDIFF(day, '2024-01-01', GETDATE()) AS days_diff\n",
    "\"\"\"\n",
    "\n",
    "def parse_calendar_functions(query: str):\n",
    "    \"\"\"Parse T-SQL date functions like DATEADD, DATEDIFF.\"\"\"\n",
    "    date_function_pattern = re.compile(r\"(DATEADD|DATEDIFF)\\((.*?)\\)\", re.DOTALL)\n",
    "    date_functions = re.findall(date_function_pattern, query)\n",
    "    return date_functions\n",
    "\n",
    "# Test the function\n",
    "calendar_functions = parse_calendar_functions(tsql_query_calendar)\n",
    "calendar_functions\n"
   ]
  },
  {
   "cell_type": "code",
   "execution_count": 7,
   "metadata": {},
   "outputs": [
    {
     "data": {
      "text/plain": [
       "[\"'SELECT * FROM ' + @table_name;\"]"
      ]
     },
     "execution_count": 7,
     "metadata": {},
     "output_type": "execute_result"
    }
   ],
   "source": [
    "# Parse T-SQL query with dynamic SQL\n",
    "tsql_query_dynamic = \"\"\"\n",
    "DECLARE @query NVARCHAR(MAX);\n",
    "SET @query = 'SELECT * FROM ' + @table_name;\n",
    "EXEC sp_executesql @query;\n",
    "\"\"\"\n",
    "\n",
    "def parse_dynamic_sql(query: str):\n",
    "    \"\"\"Parse T-SQL dynamic SQL.\"\"\"\n",
    "    dynamic_sql_pattern = re.compile(r\"SET\\s+@query\\s*=\\s*(.*?)\\s*EXEC\\s+sp_executesql\\s+@query\", re.DOTALL)\n",
    "    dynamic_sql = re.findall(dynamic_sql_pattern, query)\n",
    "    return dynamic_sql\n",
    "\n",
    "# Test the function\n",
    "dynamic_sql = parse_dynamic_sql(tsql_query_dynamic)\n",
    "dynamic_sql\n"
   ]
  }
 ],
 "metadata": {
  "kernelspec": {
   "display_name": "cliff-env",
   "language": "python",
   "name": "python3"
  },
  "language_info": {
   "codemirror_mode": {
    "name": "ipython",
    "version": 3
   },
   "file_extension": ".py",
   "mimetype": "text/x-python",
   "name": "python",
   "nbconvert_exporter": "python",
   "pygments_lexer": "ipython3",
   "version": "3.11.11"
  }
 },
 "nbformat": 4,
 "nbformat_minor": 2
}
