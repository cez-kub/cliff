{
 "cells": [
  {
   "cell_type": "code",
   "execution_count": 1,
   "metadata": {},
   "outputs": [
    {
     "name": "stderr",
     "output_type": "stream",
     "text": [
      "24/12/29 21:43:13 WARN Utils: Your hostname, MacBook-Air-Cezary.local resolves to a loopback address: 127.0.0.1; using 192.168.0.159 instead (on interface en0)\n",
      "24/12/29 21:43:13 WARN Utils: Set SPARK_LOCAL_IP if you need to bind to another address\n",
      "Setting default log level to \"WARN\".\n",
      "To adjust logging level use sc.setLogLevel(newLevel). For SparkR, use setLogLevel(newLevel).\n",
      "24/12/29 21:43:13 WARN NativeCodeLoader: Unable to load native-hadoop library for your platform... using builtin-java classes where applicable\n",
      "                                                                                \r"
     ]
    },
    {
     "name": "stdout",
     "output_type": "stream",
     "text": [
      "+-------+---+\n",
      "|   Name|Age|\n",
      "+-------+---+\n",
      "|  Alice| 34|\n",
      "|    Bob| 45|\n",
      "|Charlie| 23|\n",
      "+-------+---+\n",
      "\n"
     ]
    }
   ],
   "source": [
    "from pyspark.sql import SparkSession\n",
    "\n",
    "# Create a SparkSession\n",
    "spark = SparkSession.builder.appName(\"LocalTest\").getOrCreate()\n",
    "\n",
    "# Test with a simple DataFrame\n",
    "data = [(\"Alice\", 34), (\"Bob\", 45), (\"Charlie\", 23)]\n",
    "df = spark.createDataFrame(data, [\"Name\", \"Age\"])\n",
    "df.show()\n",
    "\n",
    "# Stop the SparkSession\n",
    "spark.stop()\n"
   ]
  },
  {
   "cell_type": "code",
   "execution_count": null,
   "metadata": {},
   "outputs": [
    {
     "name": "stdout",
     "output_type": "stream",
     "text": [
      "[(1, 'Alice'), (2, 'Bob'), (3, 'Charlie')]\n"
     ]
    }
   ],
   "source": [
    "import psycopg2\n",
    "\n",
    "def execute_ts_sql(query):\n",
    "    conn = psycopg2.connect(dbname=\"test_db\", user=\"cezarykubinski\", password=\"######\", host=\"localhost\")  #change pass to test before setting env variables\n",
    "    cursor = conn.cursor()\n",
    "\n",
    "    # Execute the T-SQL query\n",
    "    cursor.execute(query)\n",
    "\n",
    "    # Fetch the result\n",
    "    result = cursor.fetchall()\n",
    "\n",
    "    # Close the connection\n",
    "    cursor.close()\n",
    "    conn.close()\n",
    "\n",
    "    return result\n",
    "\n",
    "# Example T-SQL query\n",
    "query = \"SELECT id, name FROM users WHERE age > 18\"\n",
    "result = execute_ts_sql(query)\n",
    "print(result)\n"
   ]
  }
 ],
 "metadata": {
  "kernelspec": {
   "display_name": "cliff-env",
   "language": "python",
   "name": "python3"
  },
  "language_info": {
   "codemirror_mode": {
    "name": "ipython",
    "version": 3
   },
   "file_extension": ".py",
   "mimetype": "text/x-python",
   "name": "python",
   "nbconvert_exporter": "python",
   "pygments_lexer": "ipython3",
   "version": "3.11.11"
  }
 },
 "nbformat": 4,
 "nbformat_minor": 2
}
